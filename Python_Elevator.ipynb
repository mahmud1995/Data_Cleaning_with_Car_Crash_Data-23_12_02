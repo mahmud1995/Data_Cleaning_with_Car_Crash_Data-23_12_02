{
  "nbformat": 4,
  "nbformat_minor": 0,
  "metadata": {
    "colab": {
      "provenance": [],
      "toc_visible": true,
      "authorship_tag": "ABX9TyMkC5SSEnZsADdglYO6euj/",
      "include_colab_link": true
    },
    "kernelspec": {
      "name": "python3",
      "display_name": "Python 3"
    },
    "language_info": {
      "name": "python"
    }
  },
  "cells": [
    {
      "cell_type": "markdown",
      "metadata": {
        "id": "view-in-github",
        "colab_type": "text"
      },
      "source": [
        "<a href=\"https://colab.research.google.com/github/mahmud1995/Data_Cleaning_with_Car_Crash_Data-23_12_02/blob/main/Python_Elevator.ipynb\" target=\"_parent\"><img src=\"https://colab.research.google.com/assets/colab-badge.svg\" alt=\"Open In Colab\"/></a>"
      ]
    },
    {
      "cell_type": "code",
      "execution_count": null,
      "metadata": {
        "id": "c3PW1O8I1K-P"
      },
      "outputs": [],
      "source": [
        "def goDownfloor (current, target):\n",
        "  for floor in range(current, target-1, -1):\n",
        "    print(\"Current floor is %d.\"% floor)\n",
        "  return floor\n",
        "def goUpfloor (current, target):\n",
        "  for floor in range(current, target+ 1):\n",
        "    print(\"Current floor is %d.\" % floor)\n",
        "  return floor\n",
        "\n",
        "currentFloor = 1\n",
        "\n",
        "while(True):\n",
        "    print()\n",
        "    targetFloor=int(input(\"Please enter the floor you want to go to(To stop operation, enter -100.):\"))\n",
        "    print()\n",
        "    if targetFloor==-100:\n",
        "      break\n",
        "    elif targetFloor>currentFloor:\n",
        "      floor=goUpfloor(currentFloor,targetFloor)\n",
        "      print(\"You have arrived at floor %d. Goodbye.\" % floor)\n",
        "    elif targetFloor<currentFloor:\n",
        "      floor=goDownfloor (currentFloor, targetFloor)\n",
        "      print(\"Arrived at %d. Goodbye.\" % floor)\n",
        "    else:\n",
        "      print(\"Please click on another floor.\")\n",
        "    currentFloor=targetFloor"
      ]
    },
    {
      "cell_type": "markdown",
      "source": [
        "# Python-Elevator\n",
        "#### - Code below is about simple elevator in Python. When you run the code it will ask you input the target floor which floor you want to go. After you enter the input value(target floor) it will count each floor until you arrived the target floor and code generates string \"current floor is ...\" floor by floor."
      ],
      "metadata": {
        "id": "e_Sf85nmSBGP"
      }
    },
    {
      "cell_type": "markdown",
      "source": [
        "# New Section"
      ],
      "metadata": {
        "id": "nQy_WyJdSFJo"
      }
    },
    {
      "cell_type": "code",
      "source": [
        "def ToDownFloor(currentfloor, targetfloor):\n",
        "  for Floor in range(currentfloor, targetfloor-1,-1):\n",
        "    print(\"Current floor is %d.\"% Floor)\n",
        "  return Floor\n",
        "def ToUpFloor (currentfloor, targetfloor):\n",
        "  for Floor in range(currentfloor, targetfloor+ 1):\n",
        "    print(\"Current floor is %d.\" % Floor)\n",
        "  return Floor\n",
        "\n",
        "\n",
        "CurrentFloor = 1\n",
        "\n",
        "while(True):\n",
        "  print()\n",
        "  TargetFloor=int(input(\"Enter the floor: \"))\n",
        "  print()\n",
        "  if TargetFloor ==-100:\n",
        "    break\n",
        "  elif TargetFloor>CurrentFloor:\n",
        "    Floor = ToUpFloor(CurrentFloor, TargetFloor)\n",
        "    print(\"You are at floor %d. Doors are opening!\" % Floor)\n",
        "  elif TargetFloor<CurrentFloor:\n",
        "    Floor = ToDownFloor(CurrentFloor, TargetFloor)\n",
        "    print(\"You are at floor %d. Doors are opening!\" % Floor)\n",
        "  else:\n",
        "    print(\"Please click on another floor!\")\n",
        "    CurrentFloor=TargetFloor\n"
      ],
      "metadata": {
        "id": "zJI0KB8EHXvT"
      },
      "execution_count": null,
      "outputs": []
    }
  ]
}